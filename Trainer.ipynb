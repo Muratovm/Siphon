{
 "cells": [
  {
   "cell_type": "code",
   "execution_count": 1,
   "metadata": {},
   "outputs": [
    {
     "name": "stdout",
     "output_type": "stream",
     "text": [
      "importing Jupyter notebook from Reservoir.ipynb\n"
     ]
    }
   ],
   "source": [
    "import import_ipynb\n",
    "from Reservoir import Reservoir\n",
    "\n",
    "import os\n",
    "import torch\n",
    "from skimage import io, transform\n",
    "import numpy as np\n",
    "import matplotlib.pyplot as plt\n",
    "from torch.utils.data import Dataset, DataLoader\n",
    "import torch.nn as nn\n",
    "import torch.nn.functional as F\n",
    "\n",
    "# Ignore warnings\n",
    "import warnings\n",
    "import time\n",
    "warnings.filterwarnings(\"ignore\")\n",
    "\n",
    "\n",
    "from tqdm.notebook import tqdm_notebook"
   ]
  },
  {
   "cell_type": "code",
   "execution_count": 2,
   "metadata": {},
   "outputs": [],
   "source": [
    "class Trainer():\n",
    "    def __init__(self, device, model, dataset, optimizer, criterion):\n",
    "        self.device = device\n",
    "        self.model = model\n",
    "        self.optimizer = optimizer\n",
    "        self.criterion = criterion\n",
    "        self.dataset = dataset\n",
    "        \n",
    "    def initializeEpoch(self):\n",
    "        self.summation = 0\n",
    "        self.val_summation = 0\n",
    "        self.validation_training = enumerate(self.dataset.training_pool.validloader)\n",
    "    \n",
    "    def fit(self, epochs, report_period):\n",
    "        save_path = \"snapshots/{}_{:.5f}_weights.pt\"\n",
    "        iters_trained = []\n",
    "        training_losses = []\n",
    "        validation_losses = []\n",
    "        count = 0\n",
    "        \n",
    "        for epoch in range(epochs):\n",
    "            self.initializeEpoch()\n",
    "            dataloader = self.dataset.training_pool.dataloader\n",
    "            for i_batch, sampled_batch in tqdm_notebook(enumerate(dataloader),\n",
    "                                                       total=len(dataloader)):\n",
    "                \n",
    "                torch.cuda.empty_cache()\n",
    "                self.model.train()\n",
    "                images = sampled_batch['image']\n",
    "                images = np.transpose(images,(0,3,1,2)).to(self.device).float()\n",
    "                labels = sampled_batch['label'].to(self.device).long()\n",
    "                \n",
    "                #backwards pass\n",
    "                self.optimizer.zero_grad()\n",
    "                prediction = self.model(images)\n",
    "                \n",
    "                #calculate loss\n",
    "                labels = labels.reshape((10,))\n",
    "                loss = self.criterion(prediction, labels)\n",
    "                loss.backward()\n",
    "                self.optimizer.step()\n",
    "                \n",
    "                #get batch losses\n",
    "                val_i,batch = self.validationBatch()\n",
    "                val_loss = self.score(batch)\n",
    "                #val_loss = val_loss.data\n",
    "                self.summation += float(loss)\n",
    "                self.val_summation += float(val_loss)\n",
    "                \n",
    "                if i_batch % report_period == 0:\n",
    "                    iters_trained.append(count)\n",
    "                    average_loss = round(self.summation/float(i_batch+1),5)\n",
    "                    average_val_loss = round(self.val_summation/float(i_batch+1),5)\n",
    "                    training_losses.append(average_loss)\n",
    "                    validation_losses.append(average_val_loss)\n",
    "                count += 1\n",
    "                #print(torch.cuda.max_memory_cached(self.device))\n",
    "                \n",
    "                    \n",
    "            print(\"Epoch: \"+str(epoch))\n",
    "            print(\"Training Loss: \"+str(average_loss))\n",
    "            print(\"Validation Loss: \"+str(average_val_loss))\n",
    "            #self.model.save_weights(self.optimizer, epoch, save_path.format(count,average_loss))\n",
    "            #torch.save(self.model, save_path.format(count,average_loss))  \n",
    "            plt.plot(iters_trained,training_losses, label=\"training\")\n",
    "            plt.plot(iters_trained,validation_losses, label=\"validation\")\n",
    "            plt.legend(bbox_to_anchor=(1.05, 1), loc='upper left', borderaxespad=0.)\n",
    "            plt.show() \n",
    "            \n",
    "        \n",
    "        \n",
    "    def validationBatch(self):\n",
    "        try:\n",
    "            val_i,batch = next(self.validation_training)\n",
    "        except StopIteration:\n",
    "            self.validation_training = enumerate(self.dataset.training_pool.validloader)\n",
    "            val_i,batch = next(self.validation_training)\n",
    "        return val_i,batch\n",
    "        \n",
    "                \n",
    "    def score(self, sampled_batch):\n",
    "        self.model.eval()\n",
    "        #inputs and forward pass\n",
    "        images = sampled_batch['image']\n",
    "        images = np.transpose(images,(0,3,1,2)).to(self.device).float()\n",
    "        labels = sampled_batch['label'].to(self.device).long()\n",
    "        labels = labels.reshape((10,))\n",
    "\n",
    "        #forward pass\n",
    "        prediction = self.model(images)\n",
    "\n",
    "        #calculate loss\n",
    "        loss = self.criterion(prediction, labels)\n",
    "        torch.cuda.empty_cache()\n",
    "        return loss"
   ]
  },
  {
   "cell_type": "code",
   "execution_count": 3,
   "metadata": {},
   "outputs": [
    {
     "name": "stdout",
     "output_type": "stream",
     "text": [
      "importing Jupyter notebook from Model.ipynb\n",
      "[1, 28, 28]\n",
      "units after conv 588\n",
      "fc parameters:  5890\n",
      "Total training stacks 5400\n",
      "Total validation stacks 600\n",
      "Total testing stacks 10000\n"
     ]
    },
    {
     "data": {
      "application/vnd.jupyter.widget-view+json": {
       "model_id": "b6f237dffc8e45c09594917a5835624d",
       "version_major": 2,
       "version_minor": 0
      },
      "text/plain": [
       "HBox(children=(HTML(value=''), FloatProgress(value=0.0, max=5400.0), HTML(value='')))"
      ]
     },
     "metadata": {},
     "output_type": "display_data"
    },
    {
     "name": "stdout",
     "output_type": "stream",
     "text": [
      "\n",
      "Epoch: 0\n",
      "Training Loss: 0.28857\n",
      "Validation Loss: 0.23172\n"
     ]
    },
    {
     "data": {
      "image/png": "[encoded data removed]",
      "text/plain": [
       "<Figure size 432x288 with 1 Axes>"
      ]
     },
     "metadata": {
      "needs_background": "light"
     },
     "output_type": "display_data"
    }
   ],
   "source": [
    "import torch.optim as optim\n",
    "from Model import ConvNet\n",
    "\n",
    "if __name__ == \"__main__\":\n",
    "\n",
    "    device = torch.device('cuda' if torch.cuda.is_available() else 'cpu')\n",
    "    outputs = 10\n",
    "    image_shape = [1,28,28]\n",
    "    net = ConvNet(outputs, image_shape).to(device)\n",
    "    optimizer = optim.Adam(net.parameters(), amsgrad=True, weight_decay=0.01)\n",
    "    criterion = nn.CrossEntropyLoss() #don't use reduction!!!\n",
    "    \n",
    "    dataset = Reservoir(\"./data/training/images/train-images-idx3-ubyte.gz\",\n",
    "                        \"./data/training/labels/train-labels-idx1-ubyte.gz\",\n",
    "                        \"./data/testing/images/t10k-images-idx3-ubyte.gz\",\n",
    "                        \"./data/testing/labels/t10k-labels-idx1-ubyte.gz\")\n",
    "    \n",
    "    trainer = Trainer(device, net, dataset, optimizer, criterion)\n",
    "    \n",
    "    epochs = 1\n",
    "    report_period = 100\n",
    "    trainer.fit(epochs, report_period)"
   ]
  }
 ],
 "metadata": {
  "kernelspec": {
   "display_name": "Python 3",
   "language": "python",
   "name": "python3"
  },
  "language_info": {
   "codemirror_mode": {
    "name": "ipython",
    "version": 3
   },
   "file_extension": ".py",
   "mimetype": "text/x-python",
   "name": "python",
   "nbconvert_exporter": "python",
   "pygments_lexer": "ipython3",
   "version": "3.7.9"
  }
 },
 "nbformat": 4,
 "nbformat_minor": 2
}

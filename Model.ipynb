{
 "cells": [
  {
   "cell_type": "code",
   "execution_count": 7,
   "metadata": {},
   "outputs": [],
   "source": [
    "import import_ipynb\n",
    "from Reservoir import Reservoir\n",
    "\n",
    "import os\n",
    "import numpy as np\n",
    "\n",
    "import torch\n",
    "import torch.optim as optim\n",
    "import torch.nn as nn\n",
    "from tqdm.notebook import tqdm_notebook\n",
    "from tensorboardX import SummaryWriter\n",
    "\n",
    "# Ignore warnings\n",
    "import warnings\n",
    "import time\n",
    "warnings.filterwarnings(\"ignore\")\n",
    "\n",
    "os.chdir(\"./MNIST\")\n",
    "from MNIST_model import ConvNet\n",
    "os.chdir(\"./..\")"
   ]
  },
  {
   "cell_type": "code",
   "execution_count": 8,
   "metadata": {},
   "outputs": [],
   "source": [
    "class Model():\n",
    "    \n",
    "    def __init__(self,device):\n",
    "        outputs = 10\n",
    "        image_shape = (1,28,28)\n",
    "        self.device = device\n",
    "        self.network = ConvNet(outputs, image_shape).to(device)\n",
    "        self.optimizer = optim.Adam(self.network.parameters(), amsgrad=True, weight_decay=0.01)\n",
    "        self.criterion = nn.CrossEntropyLoss()\n",
    "        self.start_epoch = 0\n",
    "        \n",
    "    def load_weights(self, load_path):\n",
    "        checkpoint = torch.load(load_path)\n",
    "        self.network.load_state_dict(checkpoint['model_state_dict'])\n",
    "        self.optimizer.load_state_dict(checkpoint['optimizer_state_dict'])\n",
    "        self.start_epoch = checkpoint['epoch']\n",
    "        \n",
    "    def save_weights(self,epoch, save_path):\n",
    "        torch.save({\n",
    "            'epoch': epoch,\n",
    "            'model_state_dict': self.network.state_dict(),\n",
    "            'optimizer_state_dict': self.optimizer.state_dict()}, \n",
    "            save_path)\n",
    "       \n",
    "    def current_snapshot_name(self):\n",
    "        from time import gmtime, strftime\n",
    "        import socket\n",
    "\n",
    "        hostname = socket.gethostname()\n",
    "\n",
    "        date = strftime(\"%b%d_\", gmtime())\n",
    "        clock = strftime(\"%X\", gmtime())\n",
    "        now = clock.split(\":\")\n",
    "        now = date+'-'.join(now)\n",
    "\n",
    "        name = now+\"_\"+hostname\n",
    "        return name"
   ]
  },
  {
   "cell_type": "code",
   "execution_count": 10,
   "metadata": {},
   "outputs": [
    {
     "name": "stdout",
     "output_type": "stream",
     "text": [
      "Total training stacks 5400\n",
      "Total validation stacks 600\n",
      "Total testing stacks 10000\n",
      "units after conv 588\n",
      "fc parameters:  5890\n",
      "torch.Size([1, 28, 28])\n",
      "input torch.Size([10, 1, 28, 28])\n",
      "output tensor([[-0.0343,  0.5896, -1.9539, -0.6913,  1.4539,  0.0883,  1.5611, -0.1624,\n",
      "          1.1815, -0.5465],\n",
      "        [-0.1154, -0.8287, -0.3412,  0.2032,  0.2519, -0.6069,  1.1414,  0.8998,\n",
      "         -0.4664, -0.6901],\n",
      "        [ 0.6060, -0.2796, -0.5201,  0.7641,  0.1841,  0.3456,  0.8123,  0.3900,\n",
      "          0.3624, -0.3430],\n",
      "        [ 1.2073, -0.3711, -0.2898, -0.1989,  0.2594, -0.1146,  1.1477,  0.0136,\n",
      "          0.4205, -0.1950],\n",
      "        [ 0.5829,  0.1388, -0.4576,  0.2663,  0.8481, -0.6088,  0.4881, -0.2709,\n",
      "         -0.2681,  0.0840],\n",
      "        [ 0.2852,  0.2535, -0.5762,  0.6259,  0.5749, -0.9295,  0.4146, -0.0435,\n",
      "         -0.3615, -0.3470],\n",
      "        [ 0.0051, -0.0673, -0.3772, -0.4821, -0.0168, -0.0228,  0.9538, -0.1893,\n",
      "         -1.0441, -0.3765],\n",
      "        [ 0.5193, -0.4930, -0.9534,  0.1548,  0.2145,  0.3413,  1.6471, -0.1472,\n",
      "          0.1124, -0.8565],\n",
      "        [ 0.5894, -0.0496,  0.2313,  0.5075,  0.2485, -0.9708,  1.1683,  0.9823,\n",
      "          0.5100,  0.2711],\n",
      "        [ 0.6899, -0.0460, -0.9601,  0.4360,  0.9195, -0.1299,  1.1898,  0.9771,\n",
      "          0.2673, -0.0671]], grad_fn=<AddmmBackward>)\n"
     ]
    }
   ],
   "source": [
    "if __name__ == \"__main__\":\n",
    "    dataset = Reservoir(\"./data/training/images/train-images-idx3-ubyte.gz\",\n",
    "                        \"./data/training/labels/train-labels-idx1-ubyte.gz\",\n",
    "                        \"./data/testing/images/t10k-images-idx3-ubyte.gz\",\n",
    "                        \"./data/testing/labels/t10k-labels-idx1-ubyte.gz\")\n",
    "    dataloader = dataset.training_pool.dataloader\n",
    "    device = torch.device('cuda' if torch.cuda.is_available() else 'cpu')\n",
    "    model = Model(device)\n",
    "    for i, batch in enumerate(dataloader):\n",
    "        if i > 0:\n",
    "            break\n",
    "        imgs = batch['image'].float()\n",
    "        print(imgs[0].shape)\n",
    "        print(\"input\", imgs.shape)\n",
    "        out = model.network(imgs)\n",
    "        print(\"output\", out)"
   ]
  },
  {
   "cell_type": "code",
   "execution_count": null,
   "metadata": {},
   "outputs": [],
   "source": []
  }
 ],
 "metadata": {
  "kernelspec": {
   "display_name": "Python 3",
   "language": "python",
   "name": "python3"
  },
  "language_info": {
   "codemirror_mode": {
    "name": "ipython",
    "version": 3
   },
   "file_extension": ".py",
   "mimetype": "text/x-python",
   "name": "python",
   "nbconvert_exporter": "python",
   "pygments_lexer": "ipython3",
   "version": "3.7.9"
  }
 },
 "nbformat": 4,
 "nbformat_minor": 2
}
